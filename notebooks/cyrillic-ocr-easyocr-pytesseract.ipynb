{
 "metadata": {
  "kernelspec": {
   "language": "python",
   "display_name": "Python 3",
   "name": "python3"
  },
  "language_info": {
   "name": "python",
   "version": "3.10.12",
   "mimetype": "text/x-python",
   "codemirror_mode": {
    "name": "ipython",
    "version": 3
   },
   "pygments_lexer": "ipython3",
   "nbconvert_exporter": "python",
   "file_extension": ".py"
  }
 },
 "nbformat_minor": 4,
 "nbformat": 4,
 "cells": [
  {
   "cell_type": "code",
   "source": [
    "!huggingface-cli login --token <MYTOKEN>"
   ],
   "metadata": {
    "_kg_hide-output": true,
    "execution": {
     "iopub.status.busy": "2023-09-10T11:17:29.675761Z",
     "iopub.execute_input": "2023-09-10T11:17:29.676495Z",
     "iopub.status.idle": "2023-09-10T11:17:31.450099Z",
     "shell.execute_reply.started": "2023-09-10T11:17:29.676460Z",
     "shell.execute_reply": "2023-09-10T11:17:31.448892Z"
    },
    "trusted": true,
    "ExecuteTime": {
     "end_time": "2023-09-19T13:36:40.455901900Z",
     "start_time": "2023-09-19T13:36:40.415089100Z"
    }
   },
   "execution_count": 1,
   "outputs": [
    {
     "name": "stderr",
     "output_type": "stream",
     "text": [
      "\"huggingface-cli\" ­Ґ пў«пҐвбп ў­гваҐ­­Ґ© Ё«Ё ў­Ґи­Ґ©\n",
      "Є®¬ ­¤®©, ЁбЇ®«­пҐ¬®© Їа®Ја ¬¬®© Ё«Ё Ї ЄҐв­л¬ д ©«®¬.\n"
     ]
    }
   ]
  },
  {
   "cell_type": "markdown",
   "source": [
    "# Import libs"
   ],
   "metadata": {}
  },
  {
   "cell_type": "code",
   "source": [
    "# Visualization\n",
    "import PIL.Image as Image\n",
    "import matplotlib.pyplot as plt\n",
    "import matplotlib.patches as patches\n",
    "from matplotlib import colormaps\n",
    "import numpy as np\n",
    "import requests\n",
    "from tqdm import tqdm\n",
    "\n",
    "# DL\n",
    "import torch\n",
    "import torchvision.transforms.functional as tt\n",
    "import torchvision.transforms as transforms\n",
    "import cv2\n",
    "\n",
    "# OCRs\n",
    "from transformers import pipeline\n",
    "import easyocr\n",
    "import pytesseract\n",
    "from pytesseract import Output"
   ],
   "metadata": {
    "_uuid": "8f2839f25d086af736a60e9eeb907d3b93b6e0e5",
    "_cell_guid": "b1076dfc-b9ad-4769-8c92-a6c4dae69d19",
    "execution": {
     "iopub.status.busy": "2023-09-10T14:50:14.905220Z",
     "iopub.execute_input": "2023-09-10T14:50:14.905686Z",
     "iopub.status.idle": "2023-09-10T14:50:14.914621Z",
     "shell.execute_reply.started": "2023-09-10T14:50:14.905650Z",
     "shell.execute_reply": "2023-09-10T14:50:14.912773Z"
    },
    "trusted": true,
    "ExecuteTime": {
     "end_time": "2023-09-19T13:36:49.923458700Z",
     "start_time": "2023-09-19T13:36:40.453903Z"
    }
   },
   "execution_count": 2,
   "outputs": [
    {
     "ename": "KeyboardInterrupt",
     "evalue": "",
     "output_type": "error",
     "traceback": [
      "\u001B[1;31m---------------------------------------------------------------------------\u001B[0m",
      "\u001B[1;31mKeyboardInterrupt\u001B[0m                         Traceback (most recent call last)",
      "Cell \u001B[1;32mIn[2], line 17\u001B[0m\n\u001B[0;32m     14\u001B[0m \u001B[38;5;28;01mimport\u001B[39;00m \u001B[38;5;21;01mcv2\u001B[39;00m\n\u001B[0;32m     16\u001B[0m \u001B[38;5;66;03m# OCRs\u001B[39;00m\n\u001B[1;32m---> 17\u001B[0m \u001B[38;5;28;01mfrom\u001B[39;00m \u001B[38;5;21;01mtransformers\u001B[39;00m \u001B[38;5;28;01mimport\u001B[39;00m pipeline\n\u001B[0;32m     18\u001B[0m \u001B[38;5;28;01mimport\u001B[39;00m \u001B[38;5;21;01measyocr\u001B[39;00m\n\u001B[0;32m     19\u001B[0m \u001B[38;5;28;01mimport\u001B[39;00m \u001B[38;5;21;01mpytesseract\u001B[39;00m\n",
      "File \u001B[1;32m<frozen importlib._bootstrap>:1055\u001B[0m, in \u001B[0;36m_handle_fromlist\u001B[1;34m(module, fromlist, import_, recursive)\u001B[0m\n",
      "File \u001B[1;32m~\\AppData\\Local\\Programs\\Python\\Python39\\lib\\site-packages\\transformers\\utils\\import_utils.py:1174\u001B[0m, in \u001B[0;36m_LazyModule.__getattr__\u001B[1;34m(self, name)\u001B[0m\n\u001B[0;32m   1172\u001B[0m     value \u001B[38;5;241m=\u001B[39m \u001B[38;5;28mself\u001B[39m\u001B[38;5;241m.\u001B[39m_get_module(name)\n\u001B[0;32m   1173\u001B[0m \u001B[38;5;28;01melif\u001B[39;00m name \u001B[38;5;129;01min\u001B[39;00m \u001B[38;5;28mself\u001B[39m\u001B[38;5;241m.\u001B[39m_class_to_module\u001B[38;5;241m.\u001B[39mkeys():\n\u001B[1;32m-> 1174\u001B[0m     module \u001B[38;5;241m=\u001B[39m \u001B[38;5;28;43mself\u001B[39;49m\u001B[38;5;241;43m.\u001B[39;49m\u001B[43m_get_module\u001B[49m\u001B[43m(\u001B[49m\u001B[38;5;28;43mself\u001B[39;49m\u001B[38;5;241;43m.\u001B[39;49m\u001B[43m_class_to_module\u001B[49m\u001B[43m[\u001B[49m\u001B[43mname\u001B[49m\u001B[43m]\u001B[49m\u001B[43m)\u001B[49m\n\u001B[0;32m   1175\u001B[0m     value \u001B[38;5;241m=\u001B[39m \u001B[38;5;28mgetattr\u001B[39m(module, name)\n\u001B[0;32m   1176\u001B[0m \u001B[38;5;28;01melse\u001B[39;00m:\n",
      "File \u001B[1;32m~\\AppData\\Local\\Programs\\Python\\Python39\\lib\\site-packages\\transformers\\utils\\import_utils.py:1184\u001B[0m, in \u001B[0;36m_LazyModule._get_module\u001B[1;34m(self, module_name)\u001B[0m\n\u001B[0;32m   1182\u001B[0m \u001B[38;5;28;01mdef\u001B[39;00m \u001B[38;5;21m_get_module\u001B[39m(\u001B[38;5;28mself\u001B[39m, module_name: \u001B[38;5;28mstr\u001B[39m):\n\u001B[0;32m   1183\u001B[0m     \u001B[38;5;28;01mtry\u001B[39;00m:\n\u001B[1;32m-> 1184\u001B[0m         \u001B[38;5;28;01mreturn\u001B[39;00m \u001B[43mimportlib\u001B[49m\u001B[38;5;241;43m.\u001B[39;49m\u001B[43mimport_module\u001B[49m\u001B[43m(\u001B[49m\u001B[38;5;124;43m\"\u001B[39;49m\u001B[38;5;124;43m.\u001B[39;49m\u001B[38;5;124;43m\"\u001B[39;49m\u001B[43m \u001B[49m\u001B[38;5;241;43m+\u001B[39;49m\u001B[43m \u001B[49m\u001B[43mmodule_name\u001B[49m\u001B[43m,\u001B[49m\u001B[43m \u001B[49m\u001B[38;5;28;43mself\u001B[39;49m\u001B[38;5;241;43m.\u001B[39;49m\u001B[38;5;18;43m__name__\u001B[39;49m\u001B[43m)\u001B[49m\n\u001B[0;32m   1185\u001B[0m     \u001B[38;5;28;01mexcept\u001B[39;00m \u001B[38;5;167;01mException\u001B[39;00m \u001B[38;5;28;01mas\u001B[39;00m e:\n\u001B[0;32m   1186\u001B[0m         \u001B[38;5;28;01mraise\u001B[39;00m \u001B[38;5;167;01mRuntimeError\u001B[39;00m(\n\u001B[0;32m   1187\u001B[0m             \u001B[38;5;124mf\u001B[39m\u001B[38;5;124m\"\u001B[39m\u001B[38;5;124mFailed to import \u001B[39m\u001B[38;5;132;01m{\u001B[39;00m\u001B[38;5;28mself\u001B[39m\u001B[38;5;241m.\u001B[39m\u001B[38;5;18m__name__\u001B[39m\u001B[38;5;132;01m}\u001B[39;00m\u001B[38;5;124m.\u001B[39m\u001B[38;5;132;01m{\u001B[39;00mmodule_name\u001B[38;5;132;01m}\u001B[39;00m\u001B[38;5;124m because of the following error (look up to see its\u001B[39m\u001B[38;5;124m\"\u001B[39m\n\u001B[0;32m   1188\u001B[0m             \u001B[38;5;124mf\u001B[39m\u001B[38;5;124m\"\u001B[39m\u001B[38;5;124m traceback):\u001B[39m\u001B[38;5;130;01m\\n\u001B[39;00m\u001B[38;5;132;01m{\u001B[39;00me\u001B[38;5;132;01m}\u001B[39;00m\u001B[38;5;124m\"\u001B[39m\n\u001B[0;32m   1189\u001B[0m         ) \u001B[38;5;28;01mfrom\u001B[39;00m \u001B[38;5;21;01me\u001B[39;00m\n",
      "File \u001B[1;32m~\\AppData\\Local\\Programs\\Python\\Python39\\lib\\importlib\\__init__.py:127\u001B[0m, in \u001B[0;36mimport_module\u001B[1;34m(name, package)\u001B[0m\n\u001B[0;32m    125\u001B[0m             \u001B[38;5;28;01mbreak\u001B[39;00m\n\u001B[0;32m    126\u001B[0m         level \u001B[38;5;241m+\u001B[39m\u001B[38;5;241m=\u001B[39m \u001B[38;5;241m1\u001B[39m\n\u001B[1;32m--> 127\u001B[0m \u001B[38;5;28;01mreturn\u001B[39;00m \u001B[43m_bootstrap\u001B[49m\u001B[38;5;241;43m.\u001B[39;49m\u001B[43m_gcd_import\u001B[49m\u001B[43m(\u001B[49m\u001B[43mname\u001B[49m\u001B[43m[\u001B[49m\u001B[43mlevel\u001B[49m\u001B[43m:\u001B[49m\u001B[43m]\u001B[49m\u001B[43m,\u001B[49m\u001B[43m \u001B[49m\u001B[43mpackage\u001B[49m\u001B[43m,\u001B[49m\u001B[43m \u001B[49m\u001B[43mlevel\u001B[49m\u001B[43m)\u001B[49m\n",
      "File \u001B[1;32m~\\AppData\\Local\\Programs\\Python\\Python39\\lib\\site-packages\\transformers\\pipelines\\__init__.py:62\u001B[0m\n\u001B[0;32m     60\u001B[0m \u001B[38;5;28;01mfrom\u001B[39;00m \u001B[38;5;21;01m.\u001B[39;00m\u001B[38;5;21;01mconversational\u001B[39;00m \u001B[38;5;28;01mimport\u001B[39;00m Conversation, ConversationalPipeline\n\u001B[0;32m     61\u001B[0m \u001B[38;5;28;01mfrom\u001B[39;00m \u001B[38;5;21;01m.\u001B[39;00m\u001B[38;5;21;01mdepth_estimation\u001B[39;00m \u001B[38;5;28;01mimport\u001B[39;00m DepthEstimationPipeline\n\u001B[1;32m---> 62\u001B[0m \u001B[38;5;28;01mfrom\u001B[39;00m \u001B[38;5;21;01m.\u001B[39;00m\u001B[38;5;21;01mdocument_question_answering\u001B[39;00m \u001B[38;5;28;01mimport\u001B[39;00m DocumentQuestionAnsweringPipeline\n\u001B[0;32m     63\u001B[0m \u001B[38;5;28;01mfrom\u001B[39;00m \u001B[38;5;21;01m.\u001B[39;00m\u001B[38;5;21;01mfeature_extraction\u001B[39;00m \u001B[38;5;28;01mimport\u001B[39;00m FeatureExtractionPipeline\n\u001B[0;32m     64\u001B[0m \u001B[38;5;28;01mfrom\u001B[39;00m \u001B[38;5;21;01m.\u001B[39;00m\u001B[38;5;21;01mfill_mask\u001B[39;00m \u001B[38;5;28;01mimport\u001B[39;00m FillMaskPipeline\n",
      "File \u001B[1;32m~\\AppData\\Local\\Programs\\Python\\Python39\\lib\\site-packages\\transformers\\pipelines\\document_question_answering.py:29\u001B[0m\n\u001B[0;32m     20\u001B[0m \u001B[38;5;28;01mfrom\u001B[39;00m \u001B[38;5;21;01m.\u001B[39;00m\u001B[38;5;21;01m.\u001B[39;00m\u001B[38;5;21;01mutils\u001B[39;00m \u001B[38;5;28;01mimport\u001B[39;00m (\n\u001B[0;32m     21\u001B[0m     ExplicitEnum,\n\u001B[0;32m     22\u001B[0m     add_end_docstrings,\n\u001B[1;32m   (...)\u001B[0m\n\u001B[0;32m     26\u001B[0m     logging,\n\u001B[0;32m     27\u001B[0m )\n\u001B[0;32m     28\u001B[0m \u001B[38;5;28;01mfrom\u001B[39;00m \u001B[38;5;21;01m.\u001B[39;00m\u001B[38;5;21;01mbase\u001B[39;00m \u001B[38;5;28;01mimport\u001B[39;00m PIPELINE_INIT_ARGS, ChunkPipeline\n\u001B[1;32m---> 29\u001B[0m \u001B[38;5;28;01mfrom\u001B[39;00m \u001B[38;5;21;01m.\u001B[39;00m\u001B[38;5;21;01mquestion_answering\u001B[39;00m \u001B[38;5;28;01mimport\u001B[39;00m select_starts_ends\n\u001B[0;32m     32\u001B[0m \u001B[38;5;28;01mif\u001B[39;00m is_vision_available():\n\u001B[0;32m     33\u001B[0m     \u001B[38;5;28;01mfrom\u001B[39;00m \u001B[38;5;21;01mPIL\u001B[39;00m \u001B[38;5;28;01mimport\u001B[39;00m Image\n",
      "File \u001B[1;32m~\\AppData\\Local\\Programs\\Python\\Python39\\lib\\site-packages\\transformers\\pipelines\\question_answering.py:9\u001B[0m\n\u001B[0;32m      5\u001B[0m \u001B[38;5;28;01mfrom\u001B[39;00m \u001B[38;5;21;01mtyping\u001B[39;00m \u001B[38;5;28;01mimport\u001B[39;00m TYPE_CHECKING, Dict, List, Optional, Tuple, Union\n\u001B[0;32m      7\u001B[0m \u001B[38;5;28;01mimport\u001B[39;00m \u001B[38;5;21;01mnumpy\u001B[39;00m \u001B[38;5;28;01mas\u001B[39;00m \u001B[38;5;21;01mnp\u001B[39;00m\n\u001B[1;32m----> 9\u001B[0m \u001B[38;5;28;01mfrom\u001B[39;00m \u001B[38;5;21;01m.\u001B[39;00m\u001B[38;5;21;01m.\u001B[39;00m\u001B[38;5;21;01mdata\u001B[39;00m \u001B[38;5;28;01mimport\u001B[39;00m SquadExample, SquadFeatures, squad_convert_examples_to_features\n\u001B[0;32m     10\u001B[0m \u001B[38;5;28;01mfrom\u001B[39;00m \u001B[38;5;21;01m.\u001B[39;00m\u001B[38;5;21;01m.\u001B[39;00m\u001B[38;5;21;01mmodelcard\u001B[39;00m \u001B[38;5;28;01mimport\u001B[39;00m ModelCard\n\u001B[0;32m     11\u001B[0m \u001B[38;5;28;01mfrom\u001B[39;00m \u001B[38;5;21;01m.\u001B[39;00m\u001B[38;5;21;01m.\u001B[39;00m\u001B[38;5;21;01mtokenization_utils\u001B[39;00m \u001B[38;5;28;01mimport\u001B[39;00m PreTrainedTokenizer\n",
      "File \u001B[1;32m~\\AppData\\Local\\Programs\\Python\\Python39\\lib\\site-packages\\transformers\\data\\__init__.py:26\u001B[0m\n\u001B[0;32m      1\u001B[0m \u001B[38;5;66;03m# Copyright 2020 The HuggingFace Team. All rights reserved.\u001B[39;00m\n\u001B[0;32m      2\u001B[0m \u001B[38;5;66;03m#\u001B[39;00m\n\u001B[0;32m      3\u001B[0m \u001B[38;5;66;03m# Licensed under the Apache License, Version 2.0 (the \"License\");\u001B[39;00m\n\u001B[1;32m   (...)\u001B[0m\n\u001B[0;32m     12\u001B[0m \u001B[38;5;66;03m# See the License for the specific language governing permissions and\u001B[39;00m\n\u001B[0;32m     13\u001B[0m \u001B[38;5;66;03m# limitations under the License.\u001B[39;00m\n\u001B[0;32m     15\u001B[0m \u001B[38;5;28;01mfrom\u001B[39;00m \u001B[38;5;21;01m.\u001B[39;00m\u001B[38;5;21;01mdata_collator\u001B[39;00m \u001B[38;5;28;01mimport\u001B[39;00m (\n\u001B[0;32m     16\u001B[0m     DataCollatorForLanguageModeling,\n\u001B[0;32m     17\u001B[0m     DataCollatorForPermutationLanguageModeling,\n\u001B[1;32m   (...)\u001B[0m\n\u001B[0;32m     24\u001B[0m     default_data_collator,\n\u001B[0;32m     25\u001B[0m )\n\u001B[1;32m---> 26\u001B[0m \u001B[38;5;28;01mfrom\u001B[39;00m \u001B[38;5;21;01m.\u001B[39;00m\u001B[38;5;21;01mmetrics\u001B[39;00m \u001B[38;5;28;01mimport\u001B[39;00m glue_compute_metrics, xnli_compute_metrics\n\u001B[0;32m     27\u001B[0m \u001B[38;5;28;01mfrom\u001B[39;00m \u001B[38;5;21;01m.\u001B[39;00m\u001B[38;5;21;01mprocessors\u001B[39;00m \u001B[38;5;28;01mimport\u001B[39;00m (\n\u001B[0;32m     28\u001B[0m     DataProcessor,\n\u001B[0;32m     29\u001B[0m     InputExample,\n\u001B[1;32m   (...)\u001B[0m\n\u001B[0;32m     43\u001B[0m     xnli_tasks_num_labels,\n\u001B[0;32m     44\u001B[0m )\n",
      "File \u001B[1;32m~\\AppData\\Local\\Programs\\Python\\Python39\\lib\\site-packages\\transformers\\data\\metrics\\__init__.py:20\u001B[0m\n\u001B[0;32m     18\u001B[0m \u001B[38;5;28;01mif\u001B[39;00m is_sklearn_available():\n\u001B[0;32m     19\u001B[0m     \u001B[38;5;28;01mfrom\u001B[39;00m \u001B[38;5;21;01mscipy\u001B[39;00m\u001B[38;5;21;01m.\u001B[39;00m\u001B[38;5;21;01mstats\u001B[39;00m \u001B[38;5;28;01mimport\u001B[39;00m pearsonr, spearmanr\n\u001B[1;32m---> 20\u001B[0m     \u001B[38;5;28;01mfrom\u001B[39;00m \u001B[38;5;21;01msklearn\u001B[39;00m\u001B[38;5;21;01m.\u001B[39;00m\u001B[38;5;21;01mmetrics\u001B[39;00m \u001B[38;5;28;01mimport\u001B[39;00m f1_score, matthews_corrcoef\n\u001B[0;32m     23\u001B[0m DEPRECATION_WARNING \u001B[38;5;241m=\u001B[39m (\n\u001B[0;32m     24\u001B[0m     \u001B[38;5;124m\"\u001B[39m\u001B[38;5;124mThis metric will be removed from the library soon, metrics should be handled with the 🤗 Evaluate \u001B[39m\u001B[38;5;124m\"\u001B[39m\n\u001B[0;32m     25\u001B[0m     \u001B[38;5;124m\"\u001B[39m\u001B[38;5;124mlibrary. You can have a look at this example script for pointers: \u001B[39m\u001B[38;5;124m\"\u001B[39m\n\u001B[0;32m     26\u001B[0m     \u001B[38;5;124m\"\u001B[39m\u001B[38;5;124mhttps://github.com/huggingface/transformers/blob/main/examples/pytorch/text-classification/run_glue.py\u001B[39m\u001B[38;5;124m\"\u001B[39m\n\u001B[0;32m     27\u001B[0m )\n\u001B[0;32m     30\u001B[0m \u001B[38;5;28;01mdef\u001B[39;00m \u001B[38;5;21msimple_accuracy\u001B[39m(preds, labels):\n",
      "File \u001B[1;32m~\\AppData\\Local\\Programs\\Python\\Python39\\lib\\site-packages\\sklearn\\metrics\\__init__.py:42\u001B[0m\n\u001B[0;32m     38\u001B[0m \u001B[38;5;28;01mfrom\u001B[39;00m \u001B[38;5;21;01m.\u001B[39;00m\u001B[38;5;21;01m_classification\u001B[39;00m \u001B[38;5;28;01mimport\u001B[39;00m multilabel_confusion_matrix\n\u001B[0;32m     40\u001B[0m \u001B[38;5;28;01mfrom\u001B[39;00m \u001B[38;5;21;01m.\u001B[39;00m\u001B[38;5;21;01m_dist_metrics\u001B[39;00m \u001B[38;5;28;01mimport\u001B[39;00m DistanceMetric\n\u001B[1;32m---> 42\u001B[0m \u001B[38;5;28;01mfrom\u001B[39;00m \u001B[38;5;21;01m.\u001B[39;00m \u001B[38;5;28;01mimport\u001B[39;00m cluster\n\u001B[0;32m     43\u001B[0m \u001B[38;5;28;01mfrom\u001B[39;00m \u001B[38;5;21;01m.\u001B[39;00m\u001B[38;5;21;01mcluster\u001B[39;00m \u001B[38;5;28;01mimport\u001B[39;00m adjusted_mutual_info_score\n\u001B[0;32m     44\u001B[0m \u001B[38;5;28;01mfrom\u001B[39;00m \u001B[38;5;21;01m.\u001B[39;00m\u001B[38;5;21;01mcluster\u001B[39;00m \u001B[38;5;28;01mimport\u001B[39;00m adjusted_rand_score\n",
      "File \u001B[1;32m~\\AppData\\Local\\Programs\\Python\\Python39\\lib\\site-packages\\sklearn\\metrics\\cluster\\__init__.py:22\u001B[0m\n\u001B[0;32m     20\u001B[0m \u001B[38;5;28;01mfrom\u001B[39;00m \u001B[38;5;21;01m.\u001B[39;00m\u001B[38;5;21;01m_supervised\u001B[39;00m \u001B[38;5;28;01mimport\u001B[39;00m fowlkes_mallows_score\n\u001B[0;32m     21\u001B[0m \u001B[38;5;28;01mfrom\u001B[39;00m \u001B[38;5;21;01m.\u001B[39;00m\u001B[38;5;21;01m_supervised\u001B[39;00m \u001B[38;5;28;01mimport\u001B[39;00m entropy\n\u001B[1;32m---> 22\u001B[0m \u001B[38;5;28;01mfrom\u001B[39;00m \u001B[38;5;21;01m.\u001B[39;00m\u001B[38;5;21;01m_unsupervised\u001B[39;00m \u001B[38;5;28;01mimport\u001B[39;00m silhouette_samples\n\u001B[0;32m     23\u001B[0m \u001B[38;5;28;01mfrom\u001B[39;00m \u001B[38;5;21;01m.\u001B[39;00m\u001B[38;5;21;01m_unsupervised\u001B[39;00m \u001B[38;5;28;01mimport\u001B[39;00m silhouette_score\n\u001B[0;32m     24\u001B[0m \u001B[38;5;28;01mfrom\u001B[39;00m \u001B[38;5;21;01m.\u001B[39;00m\u001B[38;5;21;01m_unsupervised\u001B[39;00m \u001B[38;5;28;01mimport\u001B[39;00m calinski_harabasz_score\n",
      "File \u001B[1;32m~\\AppData\\Local\\Programs\\Python\\Python39\\lib\\site-packages\\sklearn\\metrics\\cluster\\_unsupervised.py:16\u001B[0m\n\u001B[0;32m     14\u001B[0m \u001B[38;5;28;01mfrom\u001B[39;00m \u001B[38;5;21;01m.\u001B[39;00m\u001B[38;5;21;01m.\u001B[39;00m\u001B[38;5;21;01m.\u001B[39;00m\u001B[38;5;21;01mutils\u001B[39;00m \u001B[38;5;28;01mimport\u001B[39;00m check_X_y\n\u001B[0;32m     15\u001B[0m \u001B[38;5;28;01mfrom\u001B[39;00m \u001B[38;5;21;01m.\u001B[39;00m\u001B[38;5;21;01m.\u001B[39;00m\u001B[38;5;21;01m.\u001B[39;00m\u001B[38;5;21;01mutils\u001B[39;00m \u001B[38;5;28;01mimport\u001B[39;00m _safe_indexing\n\u001B[1;32m---> 16\u001B[0m \u001B[38;5;28;01mfrom\u001B[39;00m \u001B[38;5;21;01m.\u001B[39;00m\u001B[38;5;21;01m.\u001B[39;00m\u001B[38;5;21;01mpairwise\u001B[39;00m \u001B[38;5;28;01mimport\u001B[39;00m pairwise_distances_chunked\n\u001B[0;32m     17\u001B[0m \u001B[38;5;28;01mfrom\u001B[39;00m \u001B[38;5;21;01m.\u001B[39;00m\u001B[38;5;21;01m.\u001B[39;00m\u001B[38;5;21;01mpairwise\u001B[39;00m \u001B[38;5;28;01mimport\u001B[39;00m pairwise_distances\n\u001B[0;32m     18\u001B[0m \u001B[38;5;28;01mfrom\u001B[39;00m \u001B[38;5;21;01m.\u001B[39;00m\u001B[38;5;21;01m.\u001B[39;00m\u001B[38;5;21;01m.\u001B[39;00m\u001B[38;5;21;01mpreprocessing\u001B[39;00m \u001B[38;5;28;01mimport\u001B[39;00m LabelEncoder\n",
      "File \u001B[1;32m~\\AppData\\Local\\Programs\\Python\\Python39\\lib\\site-packages\\sklearn\\metrics\\pairwise.py:33\u001B[0m\n\u001B[0;32m     30\u001B[0m \u001B[38;5;28;01mfrom\u001B[39;00m \u001B[38;5;21;01m.\u001B[39;00m\u001B[38;5;21;01m.\u001B[39;00m\u001B[38;5;21;01mutils\u001B[39;00m\u001B[38;5;21;01m.\u001B[39;00m\u001B[38;5;21;01mparallel\u001B[39;00m \u001B[38;5;28;01mimport\u001B[39;00m delayed, Parallel\n\u001B[0;32m     31\u001B[0m \u001B[38;5;28;01mfrom\u001B[39;00m \u001B[38;5;21;01m.\u001B[39;00m\u001B[38;5;21;01m.\u001B[39;00m\u001B[38;5;21;01mutils\u001B[39;00m\u001B[38;5;21;01m.\u001B[39;00m\u001B[38;5;21;01mfixes\u001B[39;00m \u001B[38;5;28;01mimport\u001B[39;00m sp_version, parse_version\n\u001B[1;32m---> 33\u001B[0m \u001B[38;5;28;01mfrom\u001B[39;00m \u001B[38;5;21;01m.\u001B[39;00m\u001B[38;5;21;01m_pairwise_distances_reduction\u001B[39;00m \u001B[38;5;28;01mimport\u001B[39;00m ArgKmin\n\u001B[0;32m     34\u001B[0m \u001B[38;5;28;01mfrom\u001B[39;00m \u001B[38;5;21;01m.\u001B[39;00m\u001B[38;5;21;01m_pairwise_fast\u001B[39;00m \u001B[38;5;28;01mimport\u001B[39;00m _chi2_kernel_fast, _sparse_manhattan\n\u001B[0;32m     35\u001B[0m \u001B[38;5;28;01mfrom\u001B[39;00m \u001B[38;5;21;01m.\u001B[39;00m\u001B[38;5;21;01m.\u001B[39;00m\u001B[38;5;21;01mexceptions\u001B[39;00m \u001B[38;5;28;01mimport\u001B[39;00m DataConversionWarning\n",
      "File \u001B[1;32m~\\AppData\\Local\\Programs\\Python\\Python39\\lib\\site-packages\\sklearn\\metrics\\_pairwise_distances_reduction\\__init__.py:89\u001B[0m\n\u001B[0;32m      1\u001B[0m \u001B[38;5;66;03m# Pairwise Distances Reductions\u001B[39;00m\n\u001B[0;32m      2\u001B[0m \u001B[38;5;66;03m# =============================\u001B[39;00m\n\u001B[0;32m      3\u001B[0m \u001B[38;5;66;03m#\u001B[39;00m\n\u001B[1;32m   (...)\u001B[0m\n\u001B[0;32m     85\u001B[0m \u001B[38;5;66;03m#    using Generalized Matrix Multiplication over `float64` data (see the\u001B[39;00m\n\u001B[0;32m     86\u001B[0m \u001B[38;5;66;03m#    docstring of :class:`GEMMTermComputer64` for details).\u001B[39;00m\n\u001B[1;32m---> 89\u001B[0m \u001B[38;5;28;01mfrom\u001B[39;00m \u001B[38;5;21;01m.\u001B[39;00m\u001B[38;5;21;01m_dispatcher\u001B[39;00m \u001B[38;5;28;01mimport\u001B[39;00m (\n\u001B[0;32m     90\u001B[0m     BaseDistancesReductionDispatcher,\n\u001B[0;32m     91\u001B[0m     ArgKmin,\n\u001B[0;32m     92\u001B[0m     RadiusNeighbors,\n\u001B[0;32m     93\u001B[0m     sqeuclidean_row_norms,\n\u001B[0;32m     94\u001B[0m )\n\u001B[0;32m     96\u001B[0m __all__ \u001B[38;5;241m=\u001B[39m [\n\u001B[0;32m     97\u001B[0m     \u001B[38;5;124m\"\u001B[39m\u001B[38;5;124mBaseDistancesReductionDispatcher\u001B[39m\u001B[38;5;124m\"\u001B[39m,\n\u001B[0;32m     98\u001B[0m     \u001B[38;5;124m\"\u001B[39m\u001B[38;5;124mArgKmin\u001B[39m\u001B[38;5;124m\"\u001B[39m,\n\u001B[0;32m     99\u001B[0m     \u001B[38;5;124m\"\u001B[39m\u001B[38;5;124mRadiusNeighbors\u001B[39m\u001B[38;5;124m\"\u001B[39m,\n\u001B[0;32m    100\u001B[0m     \u001B[38;5;124m\"\u001B[39m\u001B[38;5;124msqeuclidean_row_norms\u001B[39m\u001B[38;5;124m\"\u001B[39m,\n\u001B[0;32m    101\u001B[0m ]\n",
      "File \u001B[1;32m~\\AppData\\Local\\Programs\\Python\\Python39\\lib\\site-packages\\sklearn\\metrics\\_pairwise_distances_reduction\\_dispatcher.py:12\u001B[0m\n\u001B[0;32m      9\u001B[0m \u001B[38;5;28;01mfrom\u001B[39;00m \u001B[38;5;21;01m.\u001B[39;00m\u001B[38;5;21;01m.\u001B[39;00m\u001B[38;5;21;01m_dist_metrics\u001B[39;00m \u001B[38;5;28;01mimport\u001B[39;00m BOOL_METRICS, METRIC_MAPPING\n\u001B[0;32m     11\u001B[0m \u001B[38;5;28;01mfrom\u001B[39;00m \u001B[38;5;21;01m.\u001B[39;00m\u001B[38;5;21;01m_base\u001B[39;00m \u001B[38;5;28;01mimport\u001B[39;00m _sqeuclidean_row_norms32, _sqeuclidean_row_norms64\n\u001B[1;32m---> 12\u001B[0m \u001B[38;5;28;01mfrom\u001B[39;00m \u001B[38;5;21;01m.\u001B[39;00m\u001B[38;5;21;01m_argkmin\u001B[39;00m \u001B[38;5;28;01mimport\u001B[39;00m (\n\u001B[0;32m     13\u001B[0m     ArgKmin64,\n\u001B[0;32m     14\u001B[0m     ArgKmin32,\n\u001B[0;32m     15\u001B[0m )\n\u001B[0;32m     16\u001B[0m \u001B[38;5;28;01mfrom\u001B[39;00m \u001B[38;5;21;01m.\u001B[39;00m\u001B[38;5;21;01m_radius_neighbors\u001B[39;00m \u001B[38;5;28;01mimport\u001B[39;00m (\n\u001B[0;32m     17\u001B[0m     RadiusNeighbors64,\n\u001B[0;32m     18\u001B[0m     RadiusNeighbors32,\n\u001B[0;32m     19\u001B[0m )\n\u001B[0;32m     21\u001B[0m \u001B[38;5;28;01mfrom\u001B[39;00m \u001B[38;5;21;01m.\u001B[39;00m\u001B[38;5;21;01m.\u001B[39;00m\u001B[38;5;21;01m.\u001B[39;00m \u001B[38;5;28;01mimport\u001B[39;00m get_config\n",
      "File \u001B[1;32msklearn\\metrics\\_pairwise_distances_reduction\\_argkmin.pyx:1\u001B[0m, in \u001B[0;36minit sklearn.metrics._pairwise_distances_reduction._argkmin\u001B[1;34m()\u001B[0m\n",
      "File \u001B[1;32m<frozen importlib._bootstrap>:398\u001B[0m, in \u001B[0;36mparent\u001B[1;34m(self)\u001B[0m\n",
      "\u001B[1;31mKeyboardInterrupt\u001B[0m: "
     ]
    }
   ]
  },
  {
   "cell_type": "markdown",
   "source": [
    "# Preprocces image"
   ],
   "metadata": {}
  },
  {
   "cell_type": "code",
   "source": [
    "Image.MAX_IMAGE_PIXELS = None"
   ],
   "metadata": {
    "execution": {
     "iopub.status.busy": "2023-09-10T11:17:50.812891Z",
     "iopub.execute_input": "2023-09-10T11:17:50.813358Z",
     "iopub.status.idle": "2023-09-10T11:17:50.822842Z",
     "shell.execute_reply.started": "2023-09-10T11:17:50.813321Z",
     "shell.execute_reply": "2023-09-10T11:17:50.821593Z"
    },
    "trusted": true
   },
   "execution_count": null,
   "outputs": []
  },
  {
   "cell_type": "code",
   "source": [
    "def cut_image(image: Image.Image, k = 1.4142) -> Image.Image:\n",
    "    assert len(image.size) == 2, f\"image dim has to be equal to 2, but image.shape has {len(image.size)} dim.\"\n",
    "    \n",
    "    width, height = image.size\n",
    "        \n",
    "    height = min(k * width, height)\n",
    "    image = image.crop((0, 0, width, height))\n",
    "    \n",
    "    return image\n",
    "\n",
    "def check_exif(image: Image.Image) -> Image.Image:\n",
    "    if hasattr(image, '_getexif') and image._getexif() is not None:\n",
    "        exif = dict(image._getexif().items())\n",
    "        if exif.get(274) == 3:\n",
    "            image = image.rotate(180, expand=True)\n",
    "        elif exif.get(274) == 6:\n",
    "            image = image.rotate(270, expand=True)\n",
    "        elif exif.get(274) == 8:\n",
    "            image = image.rotate(90, expand=True)\n",
    "            \n",
    "    return image"
   ],
   "metadata": {
    "execution": {
     "iopub.status.busy": "2023-09-10T11:17:50.826793Z",
     "iopub.execute_input": "2023-09-10T11:17:50.827193Z",
     "iopub.status.idle": "2023-09-10T11:17:50.838563Z",
     "shell.execute_reply.started": "2023-09-10T11:17:50.827161Z",
     "shell.execute_reply": "2023-09-10T11:17:50.837336Z"
    },
    "trusted": true
   },
   "execution_count": null,
   "outputs": []
  },
  {
   "cell_type": "code",
   "source": [
    "class Preprocessing:\n",
    "    def __init__(self):\n",
    "        # Default threshold values\n",
    "        self.threshold_thresh = 195\n",
    "        self.threshold_maxval = 255\n",
    "\n",
    "        # Default denoising parameters\n",
    "        self.denoising_kernel = np.ones((2, 2), np.uint8)\n",
    "        self.denoising_iterations = 1\n",
    "\n",
    "        # Default blur parameters\n",
    "        self.blur_kernel = (3, 3)\n",
    "        self.blur_sigma = 3\n",
    "\n",
    "    def PILtoNumpy(self, image: Image.Image):\n",
    "        \"\"\"Convert a PIL image to a NumPy array.\"\"\"\n",
    "        return np.array(image)\n",
    "    \n",
    "    def grayscale(self, image: Image.Image):\n",
    "        \"\"\"Convert a PIL image to a grayscale PIL image.\"\"\"\n",
    "        image = image.convert('L')\n",
    "        \n",
    "        return image\n",
    "    \n",
    "    def contrast_enchancement(self, image: np.ndarray) -> np.ndarray:\n",
    "        \"\"\"Increase the contrast to make the text stand out from the background.\"\"\"\n",
    "        min_val, max_val, _, _ = cv2.minMaxLoc(image)\n",
    "        image = cv2.convertScaleAbs(image, alpha=255.0/(max_val-min_val), beta=-min_val*(255.0/(max_val-min_val)))\n",
    "\n",
    "        return image\n",
    "    \n",
    "    def set_threshold(self, thresh: int, maxval: int) -> None:\n",
    "        \"\"\"Set custom threshold values.\"\"\"\n",
    "        self.threshold_thresh = thresh\n",
    "        self.threshold_maxval = maxval\n",
    "\n",
    "    def threshold(self, image: np.ndarray) -> np.ndarray:\n",
    "        \"\"\"Apply thresholding to the input image.\"\"\"\n",
    "        _, image = cv2.threshold(image, self.threshold_thresh, self.threshold_maxval, cv2.THRESH_BINARY)\n",
    "        return image\n",
    "\n",
    "    def set_denoising(self, kernel: np.ndarray, iterations: int) -> None:\n",
    "        \"\"\"Set custom denoising parameters.\"\"\"\n",
    "        self.denoising_kernel = kernel\n",
    "        self.denoising_iterations = iterations\n",
    "\n",
    "    def denoising(self, image: np.ndarray) -> np.ndarray:\n",
    "        \"\"\"Apply denoising to the input image.\"\"\"\n",
    "        image = cv2.erode(image, self.denoising_kernel, iterations=self.denoising_iterations)\n",
    "        image = cv2.dilate(image, self.denoising_kernel, iterations=self.denoising_iterations)\n",
    "        return image\n",
    "\n",
    "    def blur_set(self, kernel: tuple, sigma: int) -> None:\n",
    "        \"\"\"Set custom blur parameters.\"\"\"\n",
    "        self.blur_kernel = kernel\n",
    "        self.blur_sigma = sigma\n",
    "\n",
    "    def blur(self, image: np.ndarray) -> np.ndarray:\n",
    "        \"\"\"Apply Gaussian blur to the input image.\"\"\"\n",
    "        image = cv2.GaussianBlur(image, self.blur_kernel, self.blur_sigma)\n",
    "        return image\n"
   ],
   "metadata": {
    "execution": {
     "iopub.status.busy": "2023-09-10T12:10:47.691980Z",
     "iopub.execute_input": "2023-09-10T12:10:47.692654Z",
     "iopub.status.idle": "2023-09-10T12:10:47.709043Z",
     "shell.execute_reply.started": "2023-09-10T12:10:47.692620Z",
     "shell.execute_reply": "2023-09-10T12:10:47.707515Z"
    },
    "trusted": true
   },
   "execution_count": null,
   "outputs": []
  },
  {
   "cell_type": "code",
   "source": [
    "url = '/kaggle/input/examples-for-ocr/18.08.04 200.jpg'\n",
    "\n",
    "image =  Image.open(url)\n",
    "\n",
    "# Проверим EXIF-ориентацию у JPG\n",
    "image = check_exif(image)\n",
    "                \n",
    "print(image.size)"
   ],
   "metadata": {
    "execution": {
     "iopub.status.busy": "2023-09-10T15:35:41.546425Z",
     "iopub.execute_input": "2023-09-10T15:35:41.546896Z",
     "iopub.status.idle": "2023-09-10T15:35:41.555451Z",
     "shell.execute_reply.started": "2023-09-10T15:35:41.546863Z",
     "shell.execute_reply": "2023-09-10T15:35:41.554308Z"
    },
    "trusted": true
   },
   "execution_count": null,
   "outputs": []
  },
  {
   "cell_type": "code",
   "source": [
    "pp = Preprocessing()\n",
    "\n",
    "transform = transforms.Compose([\n",
    "    cut_image,\n",
    "    pp.grayscale,\n",
    "    pp.PILtoNumpy,\n",
    "    #pp.blur,\n",
    "    pp.threshold,\n",
    "    pp.contrast_enchancement,\n",
    "    #pp.denoising\n",
    "    \n",
    "])\n",
    "\n",
    "image = transform(image)\n",
    "print(image.shape)"
   ],
   "metadata": {
    "execution": {
     "iopub.status.busy": "2023-09-10T15:35:41.919796Z",
     "iopub.execute_input": "2023-09-10T15:35:41.920775Z",
     "iopub.status.idle": "2023-09-10T15:35:42.034312Z",
     "shell.execute_reply.started": "2023-09-10T15:35:41.920732Z",
     "shell.execute_reply": "2023-09-10T15:35:42.033461Z"
    },
    "trusted": true
   },
   "execution_count": null,
   "outputs": []
  },
  {
   "cell_type": "markdown",
   "source": [
    "# Show preprocessed image"
   ],
   "metadata": {}
  },
  {
   "cell_type": "code",
   "source": [
    "plt.figure(figsize=(16, 20))\n",
    "plt.imshow(image, cmap=\"gray\")\n",
    "plt.axis('off')\n",
    "plt.show()"
   ],
   "metadata": {
    "execution": {
     "iopub.status.busy": "2023-09-10T15:35:43.242267Z",
     "iopub.execute_input": "2023-09-10T15:35:43.243046Z",
     "iopub.status.idle": "2023-09-10T15:35:44.013810Z",
     "shell.execute_reply.started": "2023-09-10T15:35:43.243004Z",
     "shell.execute_reply": "2023-09-10T15:35:44.010026Z"
    },
    "trusted": true
   },
   "execution_count": null,
   "outputs": []
  },
  {
   "cell_type": "markdown",
   "source": [
    "# OCR Class"
   ],
   "metadata": {}
  },
  {
   "cell_type": "code",
   "source": [
    "class OCR:\n",
    "    def __init__(self, detect, recognize):\n",
    "        \"\"\"Initialize the OCR class with recognize and detect functions\"\"\"\n",
    "        self.recognize = recognize\n",
    "        self.detect = detect\n",
    "        \n",
    "    def detect(self, image):\n",
    "        \"\"\"Use the text detection function to detect text boxes in the image\"\"\"\n",
    "        return self.detect(image)\n",
    "    \n",
    "    def recognize(self, image):\n",
    "        \"\"\"Use the text recognition function to recognize text within the detected boxes\"\"\"\n",
    "        return self.recognize(image)\n",
    "    \n",
    "    def img2text(self, image):\n",
    "        \"\"\"Perform OCR: detect text boxes and recognize text within them\"\"\"\n",
    "        boxes = self.detect(image)\n",
    "        result = self.recognize(boxes)\n",
    "        \n",
    "        return result\n",
    "    \n",
    "    def plot_results(self, results, confidence_cmap = colormaps['summer']) -> None:\n",
    "        \"\"\"Plot the original image and an empty white image for overlaying boxes and text\"\"\"\n",
    "        # plot image\n",
    "        fig, ax = plt.subplots(1, 2, figsize=(16, 16))\n",
    "        ax[0].imshow(image, cmap='gray')\n",
    "        ax[0].axis('off')\n",
    "\n",
    "        # plot white image nearby\n",
    "        white_img = np.ones_like(image, dtype=np.uint8)\n",
    "        white_img.fill(255)\n",
    "        ax[1].imshow(white_img, cmap='gray', vmin=0, vmax=255)\n",
    "        ax[1].axis('off')\n",
    "        \n",
    "        # plot boxes with text\n",
    "        for box, text, confidence in result:\n",
    "            x, y = zip(*box)\n",
    "            \n",
    "            confidence = max(0, confidence)\n",
    "            color = confidence_cmap(1-confidence/2.) \n",
    "            \n",
    "            rect0 = patches.Polygon(xy=list(zip(x, y)), closed=True, fill=False, edgecolor='green', lw=1)\n",
    "            rect1 = patches.Polygon(xy=list(zip(x, y)), closed=True, fill=True, facecolor=color, edgecolor='green', lw=1)\n",
    "            \n",
    "            ax[0].add_patch(rect0)\n",
    "            ax[1].add_patch(rect1)\n",
    "            ax[1].text(x[0], np.mean(y), text, color='black', fontsize=7, va=\"center\")\n",
    "            \n",
    "        plt.tight_layout()\n",
    "        plt.show()\n",
    "\n",
    "        "
   ],
   "metadata": {
    "execution": {
     "iopub.status.busy": "2023-09-10T15:30:16.723986Z",
     "iopub.execute_input": "2023-09-10T15:30:16.725052Z",
     "iopub.status.idle": "2023-09-10T15:30:16.742470Z",
     "shell.execute_reply.started": "2023-09-10T15:30:16.724988Z",
     "shell.execute_reply": "2023-09-10T15:30:16.741127Z"
    },
    "trusted": true
   },
   "execution_count": null,
   "outputs": []
  },
  {
   "cell_type": "code",
   "source": [
    "LANGUAGE = ['ru']\n",
    "device = torch.device(\"cuda\" if torch.cuda.is_available() else \"cpu\")"
   ],
   "metadata": {
    "execution": {
     "iopub.status.busy": "2023-09-10T15:15:18.654248Z",
     "iopub.execute_input": "2023-09-10T15:15:18.654680Z",
     "iopub.status.idle": "2023-09-10T15:15:18.661319Z",
     "shell.execute_reply.started": "2023-09-10T15:15:18.654645Z",
     "shell.execute_reply": "2023-09-10T15:15:18.659765Z"
    },
    "trusted": true
   },
   "execution_count": null,
   "outputs": []
  },
  {
   "cell_type": "markdown",
   "source": [
    "## Easy OCR"
   ],
   "metadata": {}
  },
  {
   "cell_type": "code",
   "source": [
    "model = easyocr.Reader(LANGUAGE)\n",
    "easyOCR = OCR(model.detect, model.recognize)"
   ],
   "metadata": {
    "execution": {
     "iopub.status.busy": "2023-09-10T15:15:20.232835Z",
     "iopub.execute_input": "2023-09-10T15:15:20.233264Z",
     "iopub.status.idle": "2023-09-10T15:15:23.314920Z",
     "shell.execute_reply.started": "2023-09-10T15:15:20.233230Z",
     "shell.execute_reply": "2023-09-10T15:15:23.313748Z"
    },
    "trusted": true
   },
   "execution_count": null,
   "outputs": []
  },
  {
   "cell_type": "code",
   "source": [
    "horizontal_boxes, free_boxes = easyOCR.detect(image)"
   ],
   "metadata": {
    "execution": {
     "iopub.status.busy": "2023-09-10T15:32:19.520997Z",
     "iopub.execute_input": "2023-09-10T15:32:19.521412Z",
     "iopub.status.idle": "2023-09-10T15:32:52.075172Z",
     "shell.execute_reply.started": "2023-09-10T15:32:19.521380Z",
     "shell.execute_reply": "2023-09-10T15:32:52.073725Z"
    },
    "trusted": true
   },
   "execution_count": null,
   "outputs": []
  },
  {
   "cell_type": "code",
   "source": [
    "for x1, x2, y1, y2 in horizontal_boxes[0]:\n",
    "    plt.imshow(image[y1:y2, x1:x2], cmap='gray', vmin=0, vmax=255)\n",
    "    plt.axis('off')\n",
    "    \n",
    "    result = easyOCR.recognize(image[y1:y2, x1:x2])\n",
    "    print(result, \"\\n\")\n",
    "    break"
   ],
   "metadata": {
    "execution": {
     "iopub.status.busy": "2023-09-10T15:32:52.080601Z",
     "iopub.execute_input": "2023-09-10T15:32:52.081475Z",
     "iopub.status.idle": "2023-09-10T15:32:52.283726Z",
     "shell.execute_reply.started": "2023-09-10T15:32:52.081437Z",
     "shell.execute_reply": "2023-09-10T15:32:52.280218Z"
    },
    "trusted": true
   },
   "execution_count": null,
   "outputs": []
  },
  {
   "cell_type": "code",
   "source": [
    "result = easyOCR.recognize(image, horizontal_boxes[0], free_boxes[0])"
   ],
   "metadata": {
    "execution": {
     "iopub.status.busy": "2023-09-10T15:32:52.286040Z",
     "iopub.execute_input": "2023-09-10T15:32:52.287104Z",
     "iopub.status.idle": "2023-09-10T15:32:54.925100Z",
     "shell.execute_reply.started": "2023-09-10T15:32:52.287042Z",
     "shell.execute_reply": "2023-09-10T15:32:54.924106Z"
    },
    "trusted": true
   },
   "execution_count": null,
   "outputs": []
  },
  {
   "cell_type": "code",
   "source": [
    "easyOCR.plot_results(result)"
   ],
   "metadata": {
    "execution": {
     "iopub.status.busy": "2023-09-10T15:32:54.927498Z",
     "iopub.execute_input": "2023-09-10T15:32:54.928461Z",
     "iopub.status.idle": "2023-09-10T15:32:56.312592Z",
     "shell.execute_reply.started": "2023-09-10T15:32:54.928426Z",
     "shell.execute_reply": "2023-09-10T15:32:56.311276Z"
    },
    "trusted": true
   },
   "execution_count": null,
   "outputs": []
  },
  {
   "cell_type": "markdown",
   "source": [
    "# Pytesseract OCR"
   ],
   "metadata": {}
  },
  {
   "cell_type": "code",
   "source": [
    "# model.detect still from easyOCR\n",
    "ttOCR = OCR(model.detect, pytesseract.image_to_data)"
   ],
   "metadata": {
    "execution": {
     "iopub.status.busy": "2023-09-10T15:56:28.269824Z",
     "iopub.execute_input": "2023-09-10T15:56:28.270544Z",
     "iopub.status.idle": "2023-09-10T15:56:28.275956Z",
     "shell.execute_reply.started": "2023-09-10T15:56:28.270505Z",
     "shell.execute_reply": "2023-09-10T15:56:28.274594Z"
    },
    "trusted": true
   },
   "execution_count": null,
   "outputs": []
  },
  {
   "cell_type": "code",
   "source": [
    "horizontal_boxes, free_boxes = ttOCR.detect(image)"
   ],
   "metadata": {
    "execution": {
     "iopub.status.busy": "2023-09-10T15:18:45.229528Z",
     "iopub.execute_input": "2023-09-10T15:18:45.229971Z",
     "iopub.status.idle": "2023-09-10T15:19:04.027286Z",
     "shell.execute_reply.started": "2023-09-10T15:18:45.229940Z",
     "shell.execute_reply": "2023-09-10T15:19:04.026253Z"
    },
    "trusted": true
   },
   "execution_count": null,
   "outputs": []
  },
  {
   "cell_type": "code",
   "source": [
    "config_url = \"https://github.com/tesseract-ocr/tessdata/raw/main/rus.traineddata\"\n",
    "local_config_dir = \"/kaggle/working/\"\n",
    "local_config_url = local_config_dir + \"rus.traineddata\"\n",
    "\n",
    "\n",
    "response = requests.get(config_url)\n",
    "\n",
    "if response.status_code == 200:\n",
    "    with open(local_config_url, 'wb') as file:\n",
    "        file.write(response.content)\n",
    "        \n",
    "    print(\"The config successfully downloaded.\")\n",
    "else:\n",
    "    print(\"Failed to download the config\")\n",
    "\n",
    "config = f'--oem 3 --psm 6 --tessdata-dir {local_config_dir}'"
   ],
   "metadata": {
    "execution": {
     "iopub.status.busy": "2023-09-10T16:21:51.654764Z",
     "iopub.execute_input": "2023-09-10T16:21:51.655260Z",
     "iopub.status.idle": "2023-09-10T16:21:52.176668Z",
     "shell.execute_reply.started": "2023-09-10T16:21:51.655227Z",
     "shell.execute_reply": "2023-09-10T16:21:52.175485Z"
    },
    "trusted": true
   },
   "execution_count": null,
   "outputs": []
  },
  {
   "cell_type": "code",
   "source": [
    "def get_text_and_confidence(raw_data):\n",
    "    text = ''\n",
    "    confidence = []\n",
    "    for i, word in enumerate(raw_data['text']):\n",
    "        if word != '':\n",
    "            text += f\" {word}\"\n",
    "            confidence.append(raw_data['conf'][i])\n",
    "            \n",
    "    confidence = 0 if len(confidence)==0 else np.mean(confidence)/100.\n",
    "            \n",
    "    return text, confidence"
   ],
   "metadata": {
    "execution": {
     "iopub.status.busy": "2023-09-10T16:18:19.551178Z",
     "iopub.execute_input": "2023-09-10T16:18:19.551775Z",
     "iopub.status.idle": "2023-09-10T16:18:19.561291Z",
     "shell.execute_reply.started": "2023-09-10T16:18:19.551731Z",
     "shell.execute_reply": "2023-09-10T16:18:19.559563Z"
    },
    "trusted": true
   },
   "execution_count": null,
   "outputs": []
  },
  {
   "cell_type": "code",
   "source": [
    "for x1, x2, y1, y2 in horizontal_boxes[0]:\n",
    "    plt.imshow(image[y1:y2, x1:x2], cmap='gray', vmin=0, vmax=255)\n",
    "    plt.axis('off')\n",
    "    \n",
    "    result = ttOCR.recognize(image[y1:y2, x1:x2], lang='rus', config=config, output_type=Output.DICT)\n",
    "          \n",
    "    text, confidence = get_text_and_confidence(result)\n",
    "    print(text, confidence)\n",
    "    \n",
    "    break"
   ],
   "metadata": {
    "execution": {
     "iopub.status.busy": "2023-09-10T16:18:20.749110Z",
     "iopub.execute_input": "2023-09-10T16:18:20.749921Z",
     "iopub.status.idle": "2023-09-10T16:18:21.165556Z",
     "shell.execute_reply.started": "2023-09-10T16:18:20.749857Z",
     "shell.execute_reply": "2023-09-10T16:18:21.164002Z"
    },
    "trusted": true
   },
   "execution_count": null,
   "outputs": []
  },
  {
   "cell_type": "code",
   "source": [
    "def clip(thresh, *args):\n",
    "    result_ = []\n",
    "    \n",
    "    for num in args:\n",
    "        num = min(thresh-1, num)\n",
    "        num = max(0, num)\n",
    "        result_.append(num)\n",
    "        \n",
    "    return list(result_)"
   ],
   "metadata": {
    "execution": {
     "iopub.status.busy": "2023-09-10T15:53:20.610994Z",
     "iopub.execute_input": "2023-09-10T15:53:20.611634Z",
     "iopub.status.idle": "2023-09-10T15:53:20.618962Z",
     "shell.execute_reply.started": "2023-09-10T15:53:20.611592Z",
     "shell.execute_reply": "2023-09-10T15:53:20.617342Z"
    },
    "trusted": true
   },
   "execution_count": null,
   "outputs": []
  },
  {
   "cell_type": "code",
   "source": [
    "w, h = image.shape\n",
    "result = []\n",
    "\n",
    "for x1, x2, y1, y2 in tqdm(horizontal_boxes[0]):\n",
    "    x1, x2 = clip(h, x1, x2)\n",
    "    y1, y2 = clip(w, y1, y2)\n",
    "    \n",
    "    box_result = ttOCR.recognize(image[y1:y2, x1:x2], lang='rus', config=config, output_type=Output.DICT)\n",
    "    text, confidence = get_text_and_confidence(box_result)\n",
    "    \n",
    "    result.append((\n",
    "        [[x1, y1], [x2, y1], [x2, y2], [x1, y2]],\n",
    "        text,\n",
    "        confidence\n",
    "    ))"
   ],
   "metadata": {
    "execution": {
     "iopub.status.busy": "2023-09-10T16:22:03.193386Z",
     "iopub.execute_input": "2023-09-10T16:22:03.194314Z",
     "iopub.status.idle": "2023-09-10T16:22:32.451348Z",
     "shell.execute_reply.started": "2023-09-10T16:22:03.194248Z",
     "shell.execute_reply": "2023-09-10T16:22:32.449646Z"
    },
    "trusted": true
   },
   "execution_count": null,
   "outputs": []
  },
  {
   "cell_type": "code",
   "source": [
    "ttOCR.plot_results(result)"
   ],
   "metadata": {
    "execution": {
     "iopub.status.busy": "2023-09-10T16:22:32.453433Z",
     "iopub.execute_input": "2023-09-10T16:22:32.454279Z",
     "iopub.status.idle": "2023-09-10T16:22:33.871702Z",
     "shell.execute_reply.started": "2023-09-10T16:22:32.454240Z",
     "shell.execute_reply": "2023-09-10T16:22:33.870664Z"
    },
    "trusted": true
   },
   "execution_count": null,
   "outputs": []
  },
  {
   "cell_type": "code",
   "source": [
    "pytesseract.image_to_string(image, lang='rus', config=config, output_type=Output.DICT)"
   ],
   "metadata": {
    "execution": {
     "iopub.status.busy": "2023-09-10T16:16:43.123419Z",
     "iopub.execute_input": "2023-09-10T16:16:43.123998Z",
     "iopub.status.idle": "2023-09-10T16:16:49.208562Z",
     "shell.execute_reply.started": "2023-09-10T16:16:43.123957Z",
     "shell.execute_reply": "2023-09-10T16:16:49.207433Z"
    },
    "trusted": true
   },
   "execution_count": null,
   "outputs": []
  },
  {
   "cell_type": "markdown",
   "source": [
    "# Tesseract famaly OCR from Hugging Face"
   ],
   "metadata": {}
  },
  {
   "cell_type": "code",
   "source": [
    "pipe = pipeline(\"image-to-text\", model=\"microsoft/trocr-large-printed\")"
   ],
   "metadata": {
    "_kg_hide-input": true,
    "execution": {
     "iopub.status.busy": "2023-09-10T16:18:48.886609Z",
     "iopub.execute_input": "2023-09-10T16:18:48.887088Z",
     "iopub.status.idle": "2023-09-10T16:19:39.623909Z",
     "shell.execute_reply.started": "2023-09-10T16:18:48.887051Z",
     "shell.execute_reply": "2023-09-10T16:19:39.622350Z"
    },
    "trusted": true
   },
   "execution_count": null,
   "outputs": []
  },
  {
   "cell_type": "code",
   "source": [
    "pipeOCR = OCR(model.detect, pipe)"
   ],
   "metadata": {
    "execution": {
     "iopub.status.busy": "2023-09-10T16:19:39.626295Z",
     "iopub.execute_input": "2023-09-10T16:19:39.626768Z",
     "iopub.status.idle": "2023-09-10T16:19:39.662723Z",
     "shell.execute_reply.started": "2023-09-10T16:19:39.626718Z",
     "shell.execute_reply": "2023-09-10T16:19:39.661221Z"
    },
    "trusted": true
   },
   "execution_count": null,
   "outputs": []
  },
  {
   "cell_type": "code",
   "source": [
    "for x1, x2, y1, y2 in horizontal_boxes[0]:\n",
    "    plt.imshow(image[y1:y2, x1:x2], cmap='gray', vmin=0, vmax=255)\n",
    "    plt.axis('off')\n",
    "    \n",
    "    pil_image = Image.fromarray(image[y1:y2, x1:x2], 'L')\n",
    "    # i haven't found the cyrillic transfomers on Hugging Face\n",
    "    result = pipeOCR.recognize(pil_image, max_new_tokens=40)\n",
    "    print(result)\n",
    "    break"
   ],
   "metadata": {
    "execution": {
     "iopub.status.busy": "2023-09-10T16:19:39.664743Z",
     "iopub.execute_input": "2023-09-10T16:19:39.666039Z",
     "iopub.status.idle": "2023-09-10T16:19:50.680855Z",
     "shell.execute_reply.started": "2023-09-10T16:19:39.665988Z",
     "shell.execute_reply": "2023-09-10T16:19:50.679185Z"
    },
    "trusted": true
   },
   "execution_count": null,
   "outputs": []
  },
  {
   "cell_type": "code",
   "source": [],
   "metadata": {},
   "execution_count": null,
   "outputs": []
  }
 ],
 "kernelspec": {
  "language": "python",
  "display_name": "Python 3",
  "name": "python3"
 },
 "language_info": {
  "pygments_lexer": "ipython3",
  "nbconvert_exporter": "python",
  "version": "3.6.4",
  "file_extension": ".py",
  "codemirror_mode": {
   "name": "ipython",
   "version": 3
  },
  "name": "python",
  "mimetype": "text/x-python"
 }
}
