{
 "cells": [
  {
   "cell_type": "code",
   "execution_count": 4,
   "metadata": {},
   "outputs": [],
   "source": [
    "import os\n",
    "\n",
    "BASE_DIR = os.getcwd()\n",
    "classes = os.path.join(BASE_DIR, \"classes.txt\")\n",
    "new_classes = os.path.join(BASE_DIR, \"new_classes.txt\")\n",
    "\n",
    "new_set = set()\n",
    "with open(classes, 'r') as f:\n",
    "    lines = f.readlines()\n",
    "    for line in lines:\n",
    "        new_set.update(line.lower().split())\n",
    "\n",
    "with open(new_classes, 'w') as f:\n",
    "    for i in new_set:\n",
    "        f.write(i+\"\\n\")"
   ]
  }
 ],
 "metadata": {
  "kernelspec": {
   "display_name": "base",
   "language": "python",
   "name": "python3"
  },
  "language_info": {
   "codemirror_mode": {
    "name": "ipython",
    "version": 3
   },
   "file_extension": ".py",
   "mimetype": "text/x-python",
   "name": "python",
   "nbconvert_exporter": "python",
   "pygments_lexer": "ipython3",
   "version": "3.10.9"
  },
  "orig_nbformat": 4
 },
 "nbformat": 4,
 "nbformat_minor": 2
}
